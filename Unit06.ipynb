{
  "nbformat": 4,
  "nbformat_minor": 0,
  "metadata": {
    "colab": {
      "name": "Unit06",
      "provenance": [],
      "collapsed_sections": [],
      "authorship_tag": "ABX9TyOiV2u9un6XyUPY/8rxp80B",
      "include_colab_link": true
    },
    "kernelspec": {
      "name": "python3",
      "display_name": "Python 3"
    }
  },
  "cells": [
    {
      "cell_type": "markdown",
      "metadata": {
        "id": "view-in-github",
        "colab_type": "text"
      },
      "source": [
        "<a href=\"https://colab.research.google.com/github/1man1/2020-11-study/blob/main/Unit06.ipynb\" target=\"_parent\"><img src=\"https://colab.research.google.com/assets/colab-badge.svg\" alt=\"Open In Colab\"/></a>"
      ]
    },
    {
      "cell_type": "markdown",
      "metadata": {
        "id": "HTgKLpeTHYPH"
      },
      "source": [
        "기온 데이터를 다양하게 시각화하기icon_day\n",
        "◉ 실습 데이터 Unit06/unit06-01.ipynb, seoul.csv\n",
        "\n",
        "1 데이터에 질문하기\n",
        "\n",
        "이 그림은 무엇을 나타낼까요?\n",
        "\n",
        "\n",
        "그림 6-1 보는 관점에 따라 토끼 또는 오리로 보인다\n",
        "\n",
        " \n",
        "\n",
        "오른쪽을 바라보는 토끼로 보이나요? 아니면 왼쪽을 바라보는 오리로 보이나요?\n",
        "\n",
        "같은 그림이라도 보는 관점에 따라 다르게 느껴질 수 있듯이, 데이터도 보는 관점에 따라 다르게 해석될 수 있습니다."
      ]
    },
    {
      "cell_type": "markdown",
      "metadata": {
        "id": "r6JoxUUXHaeE"
      },
      "source": [
        "Unit 5에서 봤던 이 그래프를 기억하나요?\n",
        "\n",
        "\n",
        "그림 6-2 꺾은선 그래프로 나타낸 서울의 최고 기온 그래프\n",
        "\n",
        " \n",
        "\n",
        "서울의 최고 기온 데이터 전체를 꺾은선 그래프로 나타낸 것이었습니다. 하지만 이 그래프만 봐서는 특별한 정보를 얻을 수 없었습니다. 만약 서울의 최고 기온 데이터를 꺾은선 그래프가 아닌 다른 형태로 시각화했다면 어땠을까요?\n",
        "\n",
        "이번 시간에는 히스토그램과 상자 그림으로 데이터를 시각화하면서 데이터의 다양한 특성을 알아보겠습니다."
      ]
    },
    {
      "cell_type": "markdown",
      "metadata": {
        "id": "9KTT2rQ6Hc_9"
      },
      "source": [
        "2 히스토그램\n",
        "\n",
        "■ hist( ) 함수\n",
        "\n",
        "히스토그램은 자료의 분포 상태를 직사각형 모양의 막대 그래프로 나타낸 것으로, 데이터의 빈도에 따라 높이가 결정됩니다. Unit 4~5에서는 plot() 함수를 사용하여 꺾은선 그래프를 그렸듯이 hist() 함수를 사용하면 데이터를 히스토그램을 그릴 수 있습니다."
      ]
    },
    {
      "cell_type": "code",
      "metadata": {
        "id": "zxtyhg0gHeB1"
      },
      "source": [
        "import matplotlib.pyplot as plt\n",
        "plt.hist([1,1,2,3,4,5,6,6,7,8,10])\n",
        "plt.show()"
      ],
      "execution_count": null,
      "outputs": []
    },
    {
      "cell_type": "markdown",
      "metadata": {
        "id": "CeCTajXHHgSV"
      },
      "source": [
        "1과 6에 해당하는 막대의 높이는 2이고, 9에 해당하는 막대의 높이는 0, 나머지 숫자에 해당하는 막대의 높이는 1인 것을 확인할 수 있습니다."
      ]
    },
    {
      "cell_type": "markdown",
      "metadata": {
        "id": "5rVFHroiHjO9"
      },
      "source": [
        "주사위 시뮬레이션은 다음과 같은 과정으로 진행합니다.\n",
        "\n",
        "➊ 주사위를 굴린다.\n",
        "\n",
        "➋ 나온 결과를 기록한다.\n",
        "\n",
        "➌ ➊~➋ 과정을 n번 반복한다.\n",
        "\n",
        "➍ 주사위의 눈이 나온 횟수를 히스토그램으로 그린다.\n",
        "\n",
        "\n",
        "\n"
      ]
    },
    {
      "cell_type": "markdown",
      "metadata": {
        "id": "8QvcUukCHman"
      },
      "source": [
        "1과 6에 해당하는 막대의 높이는 2이고, 9에 해당하는 막대의 높이는 0, 나머지 숫자에 해당하는 막대의 높이는 1인 것을 확인할 수 있습니다."
      ]
    },
    {
      "cell_type": "code",
      "metadata": {
        "id": "FSteX9KqHoFt",
        "outputId": "359e76a4-3770-44bc-d590-4a76b54f598c",
        "colab": {
          "base_uri": "https://localhost:8080/"
        }
      },
      "source": [
        "import random\n",
        "print(random.randint(1, 6))"
      ],
      "execution_count": null,
      "outputs": [
        {
          "output_type": "stream",
          "text": [
            "2\n"
          ],
          "name": "stdout"
        }
      ]
    },
    {
      "cell_type": "markdown",
      "metadata": {
        "id": "XKVBSL8XHrkd"
      },
      "source": [
        "randint(a,b)를 실행하면 a 이상 b 이하의 정수 중 하나의 숫자를 무작위로 선택합니다. 무작위 수이므로 실행 결과는 책과 다를 수 있습니다."
      ]
    },
    {
      "cell_type": "markdown",
      "metadata": {
        "id": "ueD2bSQhHtb2"
      },
      "source": [
        "주사위를 여러 번 굴리는 상황을 시뮬레이션하기 위해 for 반복문을 사용하고, 생성된 랜덤 숫자는 dice라는 이름의 리스트에 순서대로 저장합시다. 먼저 주사위를 5번 던진 상황을 생각해서 다음과 같이 코드를 작성합니다."
      ]
    },
    {
      "cell_type": "code",
      "metadata": {
        "id": "WpYkKjNsHpjW",
        "outputId": "8cbd3e8b-ecd3-41ac-d1f5-57b8e83218e8",
        "colab": {
          "base_uri": "https://localhost:8080/"
        }
      },
      "source": [
        "import random\n",
        "dice = []\n",
        "for i in range(5) :\n",
        "    dice.append(random.randint(1,6))\n",
        "print(dice)"
      ],
      "execution_count": null,
      "outputs": [
        {
          "output_type": "stream",
          "text": [
            "[6, 2, 1, 5, 1]\n"
          ],
          "name": "stdout"
        }
      ]
    },
    {
      "cell_type": "code",
      "metadata": {
        "id": "E6wPCVgsHvFL",
        "outputId": "9d9eee8e-ac0a-400e-be4b-c87df20fba9d",
        "colab": {
          "base_uri": "https://localhost:8080/",
          "height": 265
        }
      },
      "source": [
        "import matplotlib.pyplot as plt\n",
        "plt.hist(dice, bins=6)\n",
        "plt.show()"
      ],
      "execution_count": null,
      "outputs": [
        {
          "output_type": "display_data",
          "data": {
            "image/png": "[encoded data removed]",
            "text/plain": [
              "<Figure size 432x288 with 1 Axes>"
            ]
          },
          "metadata": {
            "tags": [],
            "needs_background": "light"
          }
        }
      ]
    },
    {
      "cell_type": "markdown",
      "metadata": {
        "id": "ix8DSbXDHzSd"
      },
      "source": [
        "실행 결과를 보니 3, 5에 해당하는 막대의 높이는 0이고 1, 2, 4에 해당하는 막대의 높이는 1, 마지막으로 6에 해당하는 막대의 높이는 2입니다. 즉, dice 리스트에 저장된 값의 빈도에 따라 막대의 높이가 다른 것을 알 수 있습니다. 프로그램을 실행할 때마다 무작위로 숫자가 뽑히기 때문에 그래프는 리스트에 저장된 값에 따라 달라집니다."
      ]
    },
    {
      "cell_type": "markdown",
      "metadata": {
        "id": "O8ACB1aQH1NE"
      },
      "source": [
        "이번에는 주사위를 100번 굴린 결과를 시뮬레이션해보겠습니다. 주사위 눈의 수는 1부터 6까지이므로 특정 값이 나올 확률은 1/6입니다. 그렇다면 주사위를 100번 굴렸을 때 각 값이 약 16번씩(100*1/6=16.667) 골고루 나올까요? 코드로 확인해 봅시다."
      ]
    },
    {
      "cell_type": "code",
      "metadata": {
        "id": "uuwI0eflHx6s",
        "outputId": "dacfe782-3a34-4a82-b885-789e2b527f22",
        "colab": {
          "base_uri": "https://localhost:8080/",
          "height": 302
        }
      },
      "source": [
        "import random\n",
        "dice = []\n",
        "for i in range(100) :    # 5를 100으로 수정합니다.\n",
        "    dice.append(random.randint(1,6))\n",
        "print(dice)\n",
        "\n",
        "import matplotlib.pyplot as plt\n",
        "plt.hist(dice, bins=6)\n",
        "plt.show()"
      ],
      "execution_count": null,
      "outputs": [
        {
          "output_type": "stream",
          "text": [
            "[6, 2, 6, 1, 2, 5, 4, 4, 2, 6, 4, 5, 1, 4, 6, 4, 6, 3, 2, 6, 5, 5, 3, 3, 6, 6, 5, 6, 3, 2, 5, 6, 5, 6, 5, 6, 1, 1, 1, 6, 2, 3, 6, 4, 6, 5, 5, 3, 6, 4, 6, 4, 4, 1, 2, 6, 3, 5, 6, 1, 3, 2, 5, 6, 3, 4, 6, 5, 2, 4, 1, 4, 2, 2, 3, 4, 3, 2, 3, 1, 4, 5, 2, 4, 4, 4, 5, 6, 2, 6, 2, 1, 6, 5, 1, 5, 2, 5, 6, 5]\n"
          ],
          "name": "stdout"
        },
        {
          "output_type": "display_data",
          "data": {
            "image/png": "[encoded data removed]",
            "text/plain": [
              "<Figure size 432x288 with 1 Axes>"
            ]
          },
          "metadata": {
            "tags": [],
            "needs_background": "light"
          }
        }
      ]
    },
    {
      "cell_type": "markdown",
      "metadata": {
        "id": "EXlzJWT6IBOE"
      },
      "source": [
        "결과를 보니 1~6까지의 수 중 각 값이 나온 빈도가 꽤 차이 나는 것을 확인할 수 있습니다. 특히 1이 나온 빈도와 4가 나온 빈도는 2배 이상 차이를 보입니다. 그렇다면 주사위를 던지는 반복 횟수를 100만 번 정도로 늘려보면 어떤 결과가 나올까요?"
      ]
    },
    {
      "cell_type": "code",
      "metadata": {
        "id": "jW3yNNL-H2UP",
        "outputId": "9ecf1698-2786-4213-bb17-4d4fd96bf250",
        "colab": {
          "base_uri": "https://localhost:8080/",
          "height": 441
        }
      },
      "source": [
        "import random\n",
        "dice = []\n",
        "for i in range(1000000) :    # 100을 1000000으로 수정합니다.\n",
        "    dice.append(random.randint(1,6))\n",
        "print(dice)\n",
        "\n",
        "import matplotlib.pyplot as plt\n",
        "plt.hist(dice, bins=6)\n",
        "plt.show()"
      ],
      "execution_count": null,
      "outputs": [
        {
          "output_type": "stream",
          "text": [
            "IOPub data rate exceeded.\n",
            "The notebook server will temporarily stop sending output\n",
            "to the client in order to avoid crashing it.\n",
            "To change this limit, set the config variable\n",
            "`--NotebookApp.iopub_data_rate_limit`.\n",
            "\n",
            "Current values:\n",
            "NotebookApp.iopub_data_rate_limit=1000000.0 (bytes/sec)\n",
            "NotebookApp.rate_limit_window=3.0 (secs)\n",
            "\n"
          ],
          "name": "stderr"
        },
        {
          "output_type": "display_data",
          "data": {
            "image/png": "[encoded data removed]",
            "text/plain": [
              "<Figure size 432x288 with 1 Axes>"
            ]
          },
          "metadata": {
            "tags": [],
            "needs_background": "light"
          }
        }
      ]
    },
    {
      "cell_type": "markdown",
      "metadata": {
        "id": "6m4PFyn8IHQl"
      },
      "source": [
        "3 기온 데이터를 히스토그램으로 표현하기\n",
        "\n",
        "데이터를 히스토그램으로 표현하는 방법에 익숙해졌나요? 이번에는 1907년부터 2018년까지 수집된 서울의 기온 데이터를 히스토그램으로 표현해 보겠습니다.\n",
        "\n",
        "먼저 모든 최고 기온 데이터를 추출하여 히스토그램으로 표현해 볼까요? 색은 빨간색으로, 구간은 100개로 나누겠습니다."
      ]
    },
    {
      "cell_type": "code",
      "metadata": {
        "id": "NIAJvvgkIEGP",
        "outputId": "84fcd8e2-006c-4a32-e8c0-f5aa04c40439",
        "colab": {
          "base_uri": "https://localhost:8080/",
          "height": 265
        }
      },
      "source": [
        "import csv\n",
        "import matplotlib.pyplot as plt\n",
        " \n",
        "f = open('seoul.csv',encoding='cp949')\n",
        "data = csv.reader(f)\n",
        "next(data)\n",
        "result = []\n",
        "\n",
        "for row in data :\n",
        "    if row[-1] != '' :\n",
        "        result.append(float(row[-1]))\n",
        "\n",
        "plt.hist(result, bins=100, color='r')   # 히스토그램으로 나타내기\n",
        "plt.show()"
      ],
      "execution_count": null,
      "outputs": [
        {
          "output_type": "display_data",
          "data": {
            "image/png": "[encoded data removed]",
            "text/plain": [
              "<Figure size 432x288 with 1 Axes>"
            ]
          },
          "metadata": {
            "tags": [],
            "needs_background": "light"
          }
        }
      ]
    },
    {
      "cell_type": "code",
      "metadata": {
        "id": "h2tni3f9IIoE",
        "outputId": "f37e8811-ec6d-47b4-c3a6-2e0d6ba64e56",
        "colab": {
          "base_uri": "https://localhost:8080/",
          "height": 265
        }
      },
      "source": [
        "import csv\n",
        "import matplotlib.pyplot as plt\n",
        " \n",
        "f = open('seoul.csv',encoding='cp949')\n",
        "data = csv.reader(f)\n",
        "next(data)\n",
        "aug = []                          # 8월의 최고 기온 값을 저장할 aug 리스트 생성\n",
        "\n",
        "for row in data :\n",
        "    month = row[0].split('-')[1]  # -로 구분된 값 중 2번째 값을 month에 저장\n",
        "    if row[-1] != '' :\n",
        "        if month == '08':               # 8월달이라면\n",
        "            aug.append(float(row[-1]))  # aug 리스트에 최고 기온 값 추가\n",
        "\n",
        "plt.hist(aug, bins=100, color='r')\n",
        "plt.show()"
      ],
      "execution_count": null,
      "outputs": [
        {
          "output_type": "display_data",
          "data": {
            "image/png": "[encoded data removed]",
            "text/plain": [
              "<Figure size 432x288 with 1 Axes>"
            ]
          },
          "metadata": {
            "tags": [],
            "needs_background": "light"
          }
        }
      ]
    },
    {
      "cell_type": "markdown",
      "metadata": {
        "id": "B-uV5O7fITbd"
      },
      "source": [
        "1월과 8월의 데이터를 히스토그램으로 시각화하기"
      ]
    },
    {
      "cell_type": "code",
      "metadata": {
        "id": "-84OgSSJIRHy",
        "outputId": "3906a03c-ae95-4018-c769-2311dba29ab4",
        "colab": {
          "base_uri": "https://localhost:8080/",
          "height": 265
        }
      },
      "source": [
        "import csv\n",
        "import matplotlib.pyplot as plt\n",
        " \n",
        "f = open('seoul.csv',encoding='cp949')\n",
        "data = csv.reader(f)\n",
        "next(data)\n",
        " \n",
        "aug = []                          # 8월의 최고 기온 값을 저장할 aug 리스트 생성\n",
        "jan = []                          # 1월의 최고 기온 값을 저장할 jan 리스트 생성\n",
        "\n",
        "for row in data :\n",
        "    month = row[0].split('-')[1]  # -로 구분된 값 중 2번째 값을 month에 저장\n",
        "    if row[-1] != '' :\n",
        "        if month == '08':               # 8월달이라면\n",
        "            aug.append(float(row[-1]))  # aug 리스트에 최고 기온 값 추가\n",
        "        if month == '01':               # 1월달이라면\n",
        "            jan.append(float(row[-1]))  # jan 리스트에 최고 기온 값 추가\n",
        "\n",
        "plt.hist(aug, bins=100, color ='r', label='Aug')\n",
        "plt.hist(jan, bins=100, color ='b', label='Jan')\n",
        "plt.legend()\n",
        "plt.show()"
      ],
      "execution_count": null,
      "outputs": [
        {
          "output_type": "display_data",
          "data": {
            "image/png": "[encoded data removed]",
            "text/plain": [
              "<Figure size 432x288 with 1 Axes>"
            ]
          },
          "metadata": {
            "tags": [],
            "needs_background": "light"
          }
        }
      ]
    },
    {
      "cell_type": "markdown",
      "metadata": {
        "id": "shs8XOtIIY2Z"
      },
      "source": [
        "한눈에 봐도 빨간색으로 표현된 8월의 히스토그램은 20~40 범위에, 파란색으로 표현된 1월의 히스토그램은 –10~10 범위 안에 표현된 것을 알 수 있습니다. 빨간색 히스토그램과 파란색 히스토그램이 나타난 범위는 서로 다르지만, 둘 다 종 모양의 그래프입니다. 이처럼 같은 데이터에서 어떤 내용을 추출하여, 어떤 방법으로 시각화하느냐에 따라 새로운 정보를 발견할 수 있습니다. 1월과 8월 외에 궁금한 달이 있다면 직접 코드를 수정하여 궁금증을 풀어보는 건 어떨까요?"
      ]
    },
    {
      "cell_type": "markdown",
      "metadata": {
        "id": "PqHcqAwXIbDR"
      },
      "source": [
        "4 기온 데이터를 상자 그림으로 표현하기\n",
        "\n",
        "이번에는 데이터를 상자 그림(boxplot) 형태로 시각화해보겠습니다. 상자 그림은 가공하지 않은 자료를 그대로 이용하는 것이 아니라, 자료에서 얻어낸 최댓값, 최솟값, 상위 ¼, 2/4(중앙), 3/4에 위치한 값을 보여주는 그래프입니다. 처음에는 낯설게 느껴질 수 있지만, 읽는 방법을 익힌다면 데이터의 분포를 한눈에 보기 쉽다는 장점이 있습니다.\n",
        "\n",
        "상자 그림으로 데이터를 어떻게 표현하는지 알아볼까요? randint() 함수를 사용하여 임의의 데이터를 만들고, 그 데이터를 상자 그림으로 나타내 봅시다. 이때 randint() 함수의 범위를 1~1000으로 설정합니다."
      ]
    },
    {
      "cell_type": "code",
      "metadata": {
        "id": "aK0j0mqIIWlU",
        "outputId": "9ba760d9-2580-4109-ef5e-0acaf98f5070",
        "colab": {
          "base_uri": "https://localhost:8080/",
          "height": 284
        }
      },
      "source": [
        "import matplotlib.pyplot as plt\n",
        "import random\n",
        "\n",
        "result = []\n",
        "for i in range(13) :\n",
        "    result.append(random.randint(1, 1000))\n",
        "print(sorted(result))\n",
        "\n",
        "\n",
        "plt.boxplot(result)\n",
        "plt.show()"
      ],
      "execution_count": null,
      "outputs": [
        {
          "output_type": "stream",
          "text": [
            "[37, 79, 154, 293, 329, 509, 536, 546, 548, 608, 708, 709, 968]\n"
          ],
          "name": "stdout"
        },
        {
          "output_type": "display_data",
          "data": {
            "image/png": "[encoded data removed]",
            "text/plain": [
              "<Figure size 432x288 with 1 Axes>"
            ]
          },
          "metadata": {
            "tags": [],
            "needs_background": "light"
          }
        }
      ]
    },
    {
      "cell_type": "markdown",
      "metadata": {
        "id": "GTfF12bAIfet"
      },
      "source": [
        "실행 결과를 보면 result라는 리스트에 저장된 숫자 중 가장 큰 값인 1000과 3/4에 위치한 604, 중앙에 위치한 398, 1/4에 위치한 255, 그리고 가장 작은 값인 12가 상자 그림에 표현이 되어 있습니다."
      ]
    },
    {
      "cell_type": "markdown",
      "metadata": {
        "id": "OZGbAsSUIg-d"
      },
      "source": [
        "다른 위치 값이 알고 싶다면?\n",
        "\n",
        "만약 ¼, 2/4, 3/4에 위치한 정확한 값이 알고 싶다면 다음 코드를 실행하세요.\n",
        "\n",
        "import numpy as np\n",
        "print(“¼: “+str(np.percentile(result,25)))\n",
        "print(“2/4: “+str(np.percentile(result,50)))\n",
        "print(“¾: “+str(np.percentile(result,75)))"
      ]
    },
    {
      "cell_type": "code",
      "metadata": {
        "id": "KR-Sy5t3IcYv",
        "outputId": "a9aea5e5-a34e-4071-b8cf-c97cf6f0fc19",
        "colab": {
          "base_uri": "https://localhost:8080/",
          "height": 265
        }
      },
      "source": [
        "import csv\n",
        "\n",
        "f = open('seoul.csv',encoding='cp949')\n",
        "data = csv.reader(f)\n",
        "next(data)\n",
        "result = []\n",
        "\n",
        "for row in data :\n",
        "    if row[-1] != '' :\n",
        "        result.append(float(row[-1]))\n",
        "\n",
        "import matplotlib.pyplot as plt\n",
        "plt.boxplot(result)       # 상자 그림으로 나타내기 \n",
        "plt.show()"
      ],
      "execution_count": null,
      "outputs": [
        {
          "output_type": "display_data",
          "data": {
            "image/png": "[encoded data removed]",
            "text/plain": [
              "<Figure size 432x288 with 1 Axes>"
            ]
          },
          "metadata": {
            "tags": [],
            "needs_background": "light"
          }
        }
      ]
    },
    {
      "cell_type": "code",
      "metadata": {
        "id": "6PV2Xm18ItBG",
        "outputId": "4dc5a984-f88f-48fa-be3c-4c437106e452",
        "colab": {
          "base_uri": "https://localhost:8080/",
          "height": 265
        }
      },
      "source": [
        "import csv\n",
        "f = open('seoul.csv',encoding='cp949')\n",
        "data = csv.reader(f)\n",
        "next(data)\n",
        "aug = []\n",
        "jan = []\n",
        "\n",
        "for row in data :\n",
        "    month = row[0].split('-')[1]\n",
        "    if row[-1] != '' :\n",
        "        if month == '08':\n",
        "            aug.append(float(row[-1]))\n",
        "        if month == '01':\n",
        "            jan.append(float(row[-1]))\n",
        "\n",
        "import matplotlib.pyplot as plt\n",
        "plt.boxplot(aug)\n",
        "plt.boxplot(jan)\n",
        "plt.show()"
      ],
      "execution_count": null,
      "outputs": [
        {
          "output_type": "display_data",
          "data": {
            "image/png": "[encoded data removed]",
            "text/plain": [
              "<Figure size 432x288 with 1 Axes>"
            ]
          },
          "metadata": {
            "tags": [],
            "needs_background": "light"
          }
        }
      ]
    },
    {
      "cell_type": "markdown",
      "metadata": {
        "id": "idNWK940IzyF"
      },
      "source": [
        "1월과 8월의 최고 기온을 히스토그램으로 표현한 결과와 상자 그림으로 표현한 결과를 비교하고, 상자 그림에 표현된 의미를 파악해 봅시다. 히스토그램에서는 추측을 통해 파악할 수 있었던 최솟값, 최댓값, 1/4, 2/4, 3/4 값의 위치를 비교적 명확하게 확인할 수 있습니다.\n",
        "\n",
        "상자 그림의 위, 아래에 그려진 동그라미는 무엇을 의미할까요? 이는 이상치(outlier) 값을 표현한 것으로, 다른 수치에 비해 너무 크거나 작은 값을 자동으로 나타낸 것입니다.\n",
        "\n",
        "만약 8월의 최고 기온 데이터와 1월의 최고 기온 데이터를 원소로 하는 리스트를 boxplot() 함수로 표현한다면 어떤 결과가 나타날까요?"
      ]
    },
    {
      "cell_type": "code",
      "metadata": {
        "id": "oAbioWi-IxEB",
        "outputId": "fe2f0bfb-48b1-470e-debc-0999b2f2dadd",
        "colab": {
          "base_uri": "https://localhost:8080/",
          "height": 529
        }
      },
      "source": [
        "plt.boxplot([aug,jan])"
      ],
      "execution_count": null,
      "outputs": [
        {
          "output_type": "execute_result",
          "data": {
            "text/plain": [
              "{'boxes': [<matplotlib.lines.Line2D at 0x7fe91359b278>,\n",
              "  <matplotlib.lines.Line2D at 0x7fe9135585f8>],\n",
              " 'caps': [<matplotlib.lines.Line2D at 0x7fe91359bf28>,\n",
              "  <matplotlib.lines.Line2D at 0x7fe913558ac8>,\n",
              "  <matplotlib.lines.Line2D at 0x7fe9135cb4a8>,\n",
              "  <matplotlib.lines.Line2D at 0x7fe9135cbba8>],\n",
              " 'fliers': [<matplotlib.lines.Line2D at 0x7fe913558828>,\n",
              "  <matplotlib.lines.Line2D at 0x7fe9135e70b8>],\n",
              " 'means': [],\n",
              " 'medians': [<matplotlib.lines.Line2D at 0x7fe913558b70>,\n",
              "  <matplotlib.lines.Line2D at 0x7fe9135cbf98>],\n",
              " 'whiskers': [<matplotlib.lines.Line2D at 0x7fe91359b390>,\n",
              "  <matplotlib.lines.Line2D at 0x7fe91359bb70>,\n",
              "  <matplotlib.lines.Line2D at 0x7fe9135cb240>,\n",
              "  <matplotlib.lines.Line2D at 0x7fe9135cb668>]}"
            ]
          },
          "metadata": {
            "tags": []
          },
          "execution_count": 15
        },
        {
          "output_type": "display_data",
          "data": {
            "image/png": "[encoded data removed]",
            "text/plain": [
              "<Figure size 432x288 with 1 Axes>"
            ]
          },
          "metadata": {
            "tags": [],
            "needs_background": "light"
          }
        }
      ]
    },
    {
      "cell_type": "code",
      "metadata": {
        "id": "ah9wdAzVI262",
        "outputId": "3c2e6744-5f35-407b-8ed7-994f057f6591",
        "colab": {
          "base_uri": "https://localhost:8080/",
          "height": 265
        }
      },
      "source": [
        "import matplotlib.pyplot as plt\n",
        "import csv\n",
        "\n",
        "\n",
        "f = open('seoul.csv' ,encoding='cp949')\n",
        "data = csv.reader(f)\n",
        "next(data)\n",
        "\n",
        "\n",
        "\n",
        "# 월별 데이터를 저장할 리스트 month 생성(12개)\n",
        "month = [[],[],[],[],[],[],[],[],[],[],[],[]]\n",
        "\n",
        "\n",
        "\n",
        "for row in data :\n",
        "    if row[-1] != '' :\n",
        "        # 월과 같은 번호의 인덱스에 월별 데이터 저장(예:1월→month[0] )\n",
        "        month[int(row[0].split('-')[1])-1].append(float(row[-1]))\n",
        "\n",
        "\n",
        "\n",
        "plt.boxplot(month)\n",
        "plt.show()"
      ],
      "execution_count": null,
      "outputs": [
        {
          "output_type": "display_data",
          "data": {
            "image/png": "[encoded data removed]",
            "text/plain": [
              "<Figure size 432x288 with 1 Axes>"
            ]
          },
          "metadata": {
            "tags": [],
            "needs_background": "light"
          }
        }
      ]
    },
    {
      "cell_type": "markdown",
      "metadata": {
        "id": "w7BhvlzsJEh_"
      },
      "source": [
        "앞서 생각한 과정을 어떻게 코드로 나타냈는지 차근차근 생각해 봅시다.\n",
        "\n",
        "먼저 1월부터 12월까지의 데이터를 분류하기 위해 빈 리스트 12개를 만듭니다. 그리고 날짜에서 추출한 월별 데이터를 정수로 변환한 1~12 사이의 숫자에서 1을 뺀 값, 즉 0~11까지의 인덱스 값에 월별 데이터를 저장합니다.\n",
        "\n",
        "여기서 1을 빼는 이유는 숫자를 리스트의 인덱스 값으로 다루기 편하기 때문입니다. 예를 들어, 0번 인덱스에는 1월의 데이터를 저장하고, 11번 인덱스에는 12월의 데이터를 저장하는 것이지요.\n",
        "\n",
        "그림 6-15의 그래프를 보니 1월이 가장 춥고, 8월이 가장 덥다는 사실을 확인할 수 있습니다. 그렇다면 8월은 언제가 가장 더울까요?\n",
        "\n",
        "이 질문을 해결하기 위해 앞에서 생각했던 것을 응용하면 됩니다. 해결 방법을 충분히 생각한 후, 다음 코드를 확인하세요."
      ]
    },
    {
      "cell_type": "markdown",
      "metadata": {
        "id": "NmEFtsWoJGWW"
      },
      "source": [
        "8월 일별 기온 데이터를 상자 그림으로 표현하기"
      ]
    },
    {
      "cell_type": "code",
      "metadata": {
        "id": "QQLLffPxI53u",
        "outputId": "101322a0-a37c-4213-8be6-941353edeaf8",
        "colab": {
          "base_uri": "https://localhost:8080/",
          "height": 1000
        }
      },
      "source": [
        "import matplotlib.pyplot as plt\n",
        "import csv\n",
        " \n",
        "f = open('seoul.csv',encoding='cp949')\n",
        "data = csv.reader(f)\n",
        "next(data)\n",
        "\n",
        "day = []                # ➊ 일별 데이터를 저장할 리스트 day 생성\n",
        "for i in range(31) :\n",
        "    day.append([])      # ➋ day 리스트 내 31개 리스트 생성\n",
        "\n",
        "for row in data :\n",
        "    if row[-1] != '' :\n",
        "        if row[0].split('-')[1] == '08':    # 8월이라면\n",
        "           # 최고 기온 값 저장\n",
        "           day[int(row[0].split('-')[2])-1].append(float(row[-1]))\n",
        "\n",
        "plt.style.use('ggplot')   # ➌ 그래프 스타일 지정\n",
        "plt.figure(figsize=(10,5), dpi=300)  # ➍ 그래프 크기 수정\n",
        "plt.boxplot(day, showfliers=False)   # ➎ 아웃라이어 값 생략\n",
        " "
      ],
      "execution_count": null,
      "outputs": [
        {
          "output_type": "execute_result",
          "data": {
            "text/plain": [
              "{'boxes': [<matplotlib.lines.Line2D at 0x7fe9133cca90>,\n",
              "  <matplotlib.lines.Line2D at 0x7fe915645f60>,\n",
              "  <matplotlib.lines.Line2D at 0x7fe9136b54e0>,\n",
              "  <matplotlib.lines.Line2D at 0x7fe9136b2a20>,\n",
              "  <matplotlib.lines.Line2D at 0x7fe9136c8f60>,\n",
              "  <matplotlib.lines.Line2D at 0x7fe91354c080>,\n",
              "  <matplotlib.lines.Line2D at 0x7fe913522a20>,\n",
              "  <matplotlib.lines.Line2D at 0x7fe913547f60>,\n",
              "  <matplotlib.lines.Line2D at 0x7fe91351b4e0>,\n",
              "  <matplotlib.lines.Line2D at 0x7fe913505a20>,\n",
              "  <matplotlib.lines.Line2D at 0x7fe9134e6a90>,\n",
              "  <matplotlib.lines.Line2D at 0x7fe9134ff4e0>,\n",
              "  <matplotlib.lines.Line2D at 0x7fe9134eda20>,\n",
              "  <matplotlib.lines.Line2D at 0x7fe913804f60>,\n",
              "  <matplotlib.lines.Line2D at 0x7fe9137f14e0>,\n",
              "  <matplotlib.lines.Line2D at 0x7fe9137f3a20>,\n",
              "  <matplotlib.lines.Line2D at 0x7fe9137fef60>,\n",
              "  <matplotlib.lines.Line2D at 0x7fe9135e94a8>,\n",
              "  <matplotlib.lines.Line2D at 0x7fe9135fb898>,\n",
              "  <matplotlib.lines.Line2D at 0x7fe9135ffc88>,\n",
              "  <matplotlib.lines.Line2D at 0x7fe9136090b8>,\n",
              "  <matplotlib.lines.Line2D at 0x7fe9136724a8>,\n",
              "  <matplotlib.lines.Line2D at 0x7fe9136776d8>,\n",
              "  <matplotlib.lines.Line2D at 0x7fe913670c88>,\n",
              "  <matplotlib.lines.Line2D at 0x7fe91364e0b8>,\n",
              "  <matplotlib.lines.Line2D at 0x7fe9136224a8>,\n",
              "  <matplotlib.lines.Line2D at 0x7fe913647898>,\n",
              "  <matplotlib.lines.Line2D at 0x7fe913645c88>,\n",
              "  <matplotlib.lines.Line2D at 0x7fe9137750b8>,\n",
              "  <matplotlib.lines.Line2D at 0x7fe91375d4a8>,\n",
              "  <matplotlib.lines.Line2D at 0x7fe913783898>],\n",
              " 'caps': [<matplotlib.lines.Line2D at 0x7fe9156454e0>,\n",
              "  <matplotlib.lines.Line2D at 0x7fe915645860>,\n",
              "  <matplotlib.lines.Line2D at 0x7fe9136c29e8>,\n",
              "  <matplotlib.lines.Line2D at 0x7fe9136c2e10>,\n",
              "  <matplotlib.lines.Line2D at 0x7fe9136b5f60>,\n",
              "  <matplotlib.lines.Line2D at 0x7fe9136b2320>,\n",
              "  <matplotlib.lines.Line2D at 0x7fe9136c84e0>,\n",
              "  <matplotlib.lines.Line2D at 0x7fe9136c8860>,\n",
              "  <matplotlib.lines.Line2D at 0x7fe91369aa20>,\n",
              "  <matplotlib.lines.Line2D at 0x7fe91369ada0>,\n",
              "  <matplotlib.lines.Line2D at 0x7fe91354c940>,\n",
              "  <matplotlib.lines.Line2D at 0x7fe913522320>,\n",
              "  <matplotlib.lines.Line2D at 0x7fe9135474e0>,\n",
              "  <matplotlib.lines.Line2D at 0x7fe913547860>,\n",
              "  <matplotlib.lines.Line2D at 0x7fe913516a20>,\n",
              "  <matplotlib.lines.Line2D at 0x7fe913516da0>,\n",
              "  <matplotlib.lines.Line2D at 0x7fe91351bf60>,\n",
              "  <matplotlib.lines.Line2D at 0x7fe913505320>,\n",
              "  <matplotlib.lines.Line2D at 0x7fe9134e6240>,\n",
              "  <matplotlib.lines.Line2D at 0x7fe9134e67f0>,\n",
              "  <matplotlib.lines.Line2D at 0x7fe9134f8a20>,\n",
              "  <matplotlib.lines.Line2D at 0x7fe9134f8da0>,\n",
              "  <matplotlib.lines.Line2D at 0x7fe9134fff60>,\n",
              "  <matplotlib.lines.Line2D at 0x7fe9134ed320>,\n",
              "  <matplotlib.lines.Line2D at 0x7fe9138044e0>,\n",
              "  <matplotlib.lines.Line2D at 0x7fe913804860>,\n",
              "  <matplotlib.lines.Line2D at 0x7fe9137e2a20>,\n",
              "  <matplotlib.lines.Line2D at 0x7fe9137e2da0>,\n",
              "  <matplotlib.lines.Line2D at 0x7fe9137f1f60>,\n",
              "  <matplotlib.lines.Line2D at 0x7fe9137f3320>,\n",
              "  <matplotlib.lines.Line2D at 0x7fe9137fe4e0>,\n",
              "  <matplotlib.lines.Line2D at 0x7fe9137fe860>,\n",
              "  <matplotlib.lines.Line2D at 0x7fe9137d6a20>,\n",
              "  <matplotlib.lines.Line2D at 0x7fe9137d6da0>,\n",
              "  <matplotlib.lines.Line2D at 0x7fe9135e9e80>,\n",
              "  <matplotlib.lines.Line2D at 0x7fe9135fb208>,\n",
              "  <matplotlib.lines.Line2D at 0x7fe9135ff2b0>,\n",
              "  <matplotlib.lines.Line2D at 0x7fe9135ff5f8>,\n",
              "  <matplotlib.lines.Line2D at 0x7fe9136056a0>,\n",
              "  <matplotlib.lines.Line2D at 0x7fe9136059e8>,\n",
              "  <matplotlib.lines.Line2D at 0x7fe913609a90>,\n",
              "  <matplotlib.lines.Line2D at 0x7fe913609dd8>,\n",
              "  <matplotlib.lines.Line2D at 0x7fe913672e80>,\n",
              "  <matplotlib.lines.Line2D at 0x7fe913677c50>,\n",
              "  <matplotlib.lines.Line2D at 0x7fe9136702b0>,\n",
              "  <matplotlib.lines.Line2D at 0x7fe9136705f8>,\n",
              "  <matplotlib.lines.Line2D at 0x7fe9136786a0>,\n",
              "  <matplotlib.lines.Line2D at 0x7fe9136789e8>,\n",
              "  <matplotlib.lines.Line2D at 0x7fe91364ea90>,\n",
              "  <matplotlib.lines.Line2D at 0x7fe91364edd8>,\n",
              "  <matplotlib.lines.Line2D at 0x7fe913622e80>,\n",
              "  <matplotlib.lines.Line2D at 0x7fe913647208>,\n",
              "  <matplotlib.lines.Line2D at 0x7fe9136452b0>,\n",
              "  <matplotlib.lines.Line2D at 0x7fe9136455f8>,\n",
              "  <matplotlib.lines.Line2D at 0x7fe9136406a0>,\n",
              "  <matplotlib.lines.Line2D at 0x7fe9136409e8>,\n",
              "  <matplotlib.lines.Line2D at 0x7fe913775a90>,\n",
              "  <matplotlib.lines.Line2D at 0x7fe913775dd8>,\n",
              "  <matplotlib.lines.Line2D at 0x7fe91375de80>,\n",
              "  <matplotlib.lines.Line2D at 0x7fe913783208>,\n",
              "  <matplotlib.lines.Line2D at 0x7fe91378b2b0>,\n",
              "  <matplotlib.lines.Line2D at 0x7fe91378b5f8>],\n",
              " 'fliers': [],\n",
              " 'means': [],\n",
              " 'medians': [<matplotlib.lines.Line2D at 0x7fe915645be0>,\n",
              "  <matplotlib.lines.Line2D at 0x7fe9136b5160>,\n",
              "  <matplotlib.lines.Line2D at 0x7fe9136b26a0>,\n",
              "  <matplotlib.lines.Line2D at 0x7fe9136c8be0>,\n",
              "  <matplotlib.lines.Line2D at 0x7fe91354c2e8>,\n",
              "  <matplotlib.lines.Line2D at 0x7fe9135226a0>,\n",
              "  <matplotlib.lines.Line2D at 0x7fe913547be0>,\n",
              "  <matplotlib.lines.Line2D at 0x7fe91351b160>,\n",
              "  <matplotlib.lines.Line2D at 0x7fe9135056a0>,\n",
              "  <matplotlib.lines.Line2D at 0x7fe9134e6ba8>,\n",
              "  <matplotlib.lines.Line2D at 0x7fe9134ff160>,\n",
              "  <matplotlib.lines.Line2D at 0x7fe9134ed6a0>,\n",
              "  <matplotlib.lines.Line2D at 0x7fe913804be0>,\n",
              "  <matplotlib.lines.Line2D at 0x7fe9137f1160>,\n",
              "  <matplotlib.lines.Line2D at 0x7fe9137f36a0>,\n",
              "  <matplotlib.lines.Line2D at 0x7fe9137febe0>,\n",
              "  <matplotlib.lines.Line2D at 0x7fe9135e9160>,\n",
              "  <matplotlib.lines.Line2D at 0x7fe9135fb550>,\n",
              "  <matplotlib.lines.Line2D at 0x7fe9135ff940>,\n",
              "  <matplotlib.lines.Line2D at 0x7fe913605d30>,\n",
              "  <matplotlib.lines.Line2D at 0x7fe913672160>,\n",
              "  <matplotlib.lines.Line2D at 0x7fe9136772b0>,\n",
              "  <matplotlib.lines.Line2D at 0x7fe913670940>,\n",
              "  <matplotlib.lines.Line2D at 0x7fe913678d30>,\n",
              "  <matplotlib.lines.Line2D at 0x7fe913622160>,\n",
              "  <matplotlib.lines.Line2D at 0x7fe913647550>,\n",
              "  <matplotlib.lines.Line2D at 0x7fe913645940>,\n",
              "  <matplotlib.lines.Line2D at 0x7fe913640d30>,\n",
              "  <matplotlib.lines.Line2D at 0x7fe91375d160>,\n",
              "  <matplotlib.lines.Line2D at 0x7fe913783550>,\n",
              "  <matplotlib.lines.Line2D at 0x7fe91378b940>],\n",
              " 'whiskers': [<matplotlib.lines.Line2D at 0x7fe9133ccda0>,\n",
              "  <matplotlib.lines.Line2D at 0x7fe915645160>,\n",
              "  <matplotlib.lines.Line2D at 0x7fe9136c2da0>,\n",
              "  <matplotlib.lines.Line2D at 0x7fe9136c2278>,\n",
              "  <matplotlib.lines.Line2D at 0x7fe9136b5860>,\n",
              "  <matplotlib.lines.Line2D at 0x7fe9136b5be0>,\n",
              "  <matplotlib.lines.Line2D at 0x7fe9136b2da0>,\n",
              "  <matplotlib.lines.Line2D at 0x7fe9136c8160>,\n",
              "  <matplotlib.lines.Line2D at 0x7fe91369a320>,\n",
              "  <matplotlib.lines.Line2D at 0x7fe91369a6a0>,\n",
              "  <matplotlib.lines.Line2D at 0x7fe91354c7f0>,\n",
              "  <matplotlib.lines.Line2D at 0x7fe91354c898>,\n",
              "  <matplotlib.lines.Line2D at 0x7fe913522da0>,\n",
              "  <matplotlib.lines.Line2D at 0x7fe913547160>,\n",
              "  <matplotlib.lines.Line2D at 0x7fe913516320>,\n",
              "  <matplotlib.lines.Line2D at 0x7fe9135166a0>,\n",
              "  <matplotlib.lines.Line2D at 0x7fe91351b860>,\n",
              "  <matplotlib.lines.Line2D at 0x7fe91351bbe0>,\n",
              "  <matplotlib.lines.Line2D at 0x7fe913505da0>,\n",
              "  <matplotlib.lines.Line2D at 0x7fe9134e6438>,\n",
              "  <matplotlib.lines.Line2D at 0x7fe9134f8320>,\n",
              "  <matplotlib.lines.Line2D at 0x7fe9134f86a0>,\n",
              "  <matplotlib.lines.Line2D at 0x7fe9134ff860>,\n",
              "  <matplotlib.lines.Line2D at 0x7fe9134ffbe0>,\n",
              "  <matplotlib.lines.Line2D at 0x7fe9134edda0>,\n",
              "  <matplotlib.lines.Line2D at 0x7fe913804160>,\n",
              "  <matplotlib.lines.Line2D at 0x7fe9137e2320>,\n",
              "  <matplotlib.lines.Line2D at 0x7fe9137e26a0>,\n",
              "  <matplotlib.lines.Line2D at 0x7fe9137f1860>,\n",
              "  <matplotlib.lines.Line2D at 0x7fe9137f1be0>,\n",
              "  <matplotlib.lines.Line2D at 0x7fe9137f3da0>,\n",
              "  <matplotlib.lines.Line2D at 0x7fe9137fe160>,\n",
              "  <matplotlib.lines.Line2D at 0x7fe9137d6320>,\n",
              "  <matplotlib.lines.Line2D at 0x7fe9137d66a0>,\n",
              "  <matplotlib.lines.Line2D at 0x7fe9135e97f0>,\n",
              "  <matplotlib.lines.Line2D at 0x7fe9135e9b38>,\n",
              "  <matplotlib.lines.Line2D at 0x7fe9135fbbe0>,\n",
              "  <matplotlib.lines.Line2D at 0x7fe9135fbf28>,\n",
              "  <matplotlib.lines.Line2D at 0x7fe9135fffd0>,\n",
              "  <matplotlib.lines.Line2D at 0x7fe913605358>,\n",
              "  <matplotlib.lines.Line2D at 0x7fe913609400>,\n",
              "  <matplotlib.lines.Line2D at 0x7fe913609748>,\n",
              "  <matplotlib.lines.Line2D at 0x7fe9136727f0>,\n",
              "  <matplotlib.lines.Line2D at 0x7fe913672b38>,\n",
              "  <matplotlib.lines.Line2D at 0x7fe913677cc0>,\n",
              "  <matplotlib.lines.Line2D at 0x7fe913677f60>,\n",
              "  <matplotlib.lines.Line2D at 0x7fe913670fd0>,\n",
              "  <matplotlib.lines.Line2D at 0x7fe913678358>,\n",
              "  <matplotlib.lines.Line2D at 0x7fe91364e400>,\n",
              "  <matplotlib.lines.Line2D at 0x7fe91364e748>,\n",
              "  <matplotlib.lines.Line2D at 0x7fe9136227f0>,\n",
              "  <matplotlib.lines.Line2D at 0x7fe913622b38>,\n",
              "  <matplotlib.lines.Line2D at 0x7fe913647be0>,\n",
              "  <matplotlib.lines.Line2D at 0x7fe913647f28>,\n",
              "  <matplotlib.lines.Line2D at 0x7fe913645fd0>,\n",
              "  <matplotlib.lines.Line2D at 0x7fe913640358>,\n",
              "  <matplotlib.lines.Line2D at 0x7fe913775400>,\n",
              "  <matplotlib.lines.Line2D at 0x7fe913775748>,\n",
              "  <matplotlib.lines.Line2D at 0x7fe91375d7f0>,\n",
              "  <matplotlib.lines.Line2D at 0x7fe91375db38>,\n",
              "  <matplotlib.lines.Line2D at 0x7fe913783be0>,\n",
              "  <matplotlib.lines.Line2D at 0x7fe913783f28>]}"
            ]
          },
          "metadata": {
            "tags": []
          },
          "execution_count": 19
        },
        {
          "output_type": "display_data",
          "data": {
            "image/png": "[encoded data removed]",
            "text/plain": [
              "<Figure size 3000x1500 with 1 Axes>"
            ]
          },
          "metadata": {
            "tags": []
          }
        }
      ]
    },
    {
      "cell_type": "markdown",
      "metadata": {
        "id": "ws1BUhasJMlu"
      },
      "source": [
        "추가한 코드가 무엇인지 발견했나요? ➊에서 일별 데이터를 저장할 리스트 day를 만들고 ➋에서 day라는 리스트 안에 31개의 리스트를 추가했습니다. 일별 데이터를 day 리스트에 저장한 것이지요.\n",
        "\n",
        "그리고 ➌에서 plt.style.use(‘ggplot’)라는 코드가 처음 등장하였습니다. 이는 그래프의 스타일을 지정하는 코드로, 여기서는 ggplot이라는 스타일로 지정하였습니다. 그 결과 그래프를 표현하는 배경이 회색의 격자 무늬로 바뀌었으며, 2/4 값을 의미하는 선의 색이 바뀐 것을 확인할 수 있습니다.\n",
        "\n",
        "또 ➍에서는 그래프의 크기를 가로 10, 세로 5로 지정하여 박스의 크기를 수정하였습니다. 마지막으로 ➎에서 설정한 showfliers=False라는 코드는 이상치 값이 보이지 않게 설정하는 코드입니다. 그림 6-16에서 이상치를 표시하는 동그라미는 표시되지 않은 것을 볼 수 있습니다.\n",
        "\n",
        "지금까지 배운 코드를 활용해서 여러분이 궁금한 질문에 대한 답을 찾아보기 바랍니다."
      ]
    },
    {
      "cell_type": "markdown",
      "metadata": {
        "id": "sQnRear5JNxV"
      },
      "source": [
        "TIP\n",
        "\n",
        "1년 중 일교차가 가장 큰 달은 몇 월일까요? 이런 질문도 재밌을 것 같네요!\n",
        "\n",
        "```\n",
        "# 코드로 형식 지정됨\n",
        "```\n",
        "\n"
      ]
    },
    {
      "cell_type": "markdown",
      "metadata": {
        "id": "XDhAm-WRJQwf"
      },
      "source": [
        "• 셋째 마당 •\n",
        "인구 공공데이터\n",
        " \n",
        "\n",
        "지금까지는 기온 공공데이터를 바탕으로 데이터에 질문을 던지고, 질문을 다듬고, 문제를 해결하는 과정을 정리하고, 이를 파이썬 코드로 구현하였습니다. 이제 어느 정도 데이터 분석에 대한 감이 잡혔나요? 앞서 기온 공공데이터를 활용해서 다양한 분석을 했던 것처럼, 셋째 마당에서는 인구 공공데이터를 바탕으로 다양한 궁금증을 해결해 보겠습니다."
      ]
    },
    {
      "cell_type": "code",
      "metadata": {
        "id": "6St6tG4OJH1h"
      },
      "source": [
        ""
      ],
      "execution_count": null,
      "outputs": []
    }
  ]
}