{
  "nbformat": 4,
  "nbformat_minor": 0,
  "metadata": {
    "colab": {
      "name": "Unit 08",
      "provenance": [],
      "collapsed_sections": [],
      "authorship_tag": "ABX9TyMSj6sxwN9ZL50Vw0SoUhbH",
      "include_colab_link": true
    },
    "kernelspec": {
      "name": "python3",
      "display_name": "Python 3"
    }
  },
  "cells": [
    {
      "cell_type": "markdown",
      "metadata": {
        "id": "view-in-github",
        "colab_type": "text"
      },
      "source": [
        "<a href=\"https://colab.research.google.com/github/1man1/2020-11-study/blob/main/Unit_08.ipynb\" target=\"_parent\"><img src=\"https://colab.research.google.com/assets/colab-badge.svg\" alt=\"Open In Colab\"/></a>"
      ]
    },
    {
      "cell_type": "code",
      "metadata": {
        "id": "IRCFrYflAYah",
        "outputId": "aa47307c-2ed6-489c-ed0d-37d70c2c5461",
        "colab": {
          "base_uri": "https://localhost:8080/"
        }
      },
      "source": [
        "%matplotlib inline  \n",
        "import matplotlib as mpl  # 기본 설정 만지는 용도\n",
        "import matplotlib.pyplot as plt  # 그래프 그리는 용도\n",
        "import matplotlib.font_manager as fm  # 폰트 관련 용도\n",
        "!apt-get update -qq\n",
        "!apt-get install fonts-nanum* -qq\n",
        "path = '/usr/share/fonts/truetype/nanum/NanumGothicEco.ttf'  # 설치된 나눔글꼴중 원하는 녀석의 전체 경로를 가져오자\n",
        "font_name = fm.FontProperties(fname=path, size=10).get_name()\n",
        "print(font_name)\n",
        "plt.rc('font', family=font_name)\n",
        "# 우선 fm._rebuild() 를 해주고\n",
        "fm._rebuild()\n",
        "mpl.rcParams['axes.unicode_minus'] = False#마이너스 기호 나오게"
      ],
      "execution_count": null,
      "outputs": [
        {
          "output_type": "stream",
          "text": [
            "NanumGothic Eco\n"
          ],
          "name": "stdout"
        }
      ]
    },
    {
      "cell_type": "code",
      "metadata": {
        "id": "WbeYZE_AAcuQ",
        "outputId": "18d157bb-dce7-4a8e-c318-aa0b8f3f00db",
        "colab": {
          "base_uri": "https://localhost:8080/",
          "height": 169
        }
      },
      "source": [
        "plt.rc('font', family=font_name)"
      ],
      "execution_count": null,
      "outputs": [
        {
          "output_type": "error",
          "ename": "NameError",
          "evalue": "ignored",
          "traceback": [
            "\u001b[0;31m---------------------------------------------------------------------------\u001b[0m",
            "\u001b[0;31mNameError\u001b[0m                                 Traceback (most recent call last)",
            "\u001b[0;32m<ipython-input-2-34dd932aff75>\u001b[0m in \u001b[0;36m<module>\u001b[0;34m()\u001b[0m\n\u001b[0;32m----> 1\u001b[0;31m \u001b[0mplt\u001b[0m\u001b[0;34m.\u001b[0m\u001b[0mrc\u001b[0m\u001b[0;34m(\u001b[0m\u001b[0;34m'font'\u001b[0m\u001b[0;34m,\u001b[0m \u001b[0mfamily\u001b[0m\u001b[0;34m=\u001b[0m\u001b[0mfont_name\u001b[0m\u001b[0;34m)\u001b[0m\u001b[0;34m\u001b[0m\u001b[0;34m\u001b[0m\u001b[0m\n\u001b[0m",
            "\u001b[0;31mNameError\u001b[0m: name 'font_name' is not defined"
          ]
        }
      ]
    },
    {
      "cell_type": "code",
      "metadata": {
        "id": "gImbZWHo5EyC",
        "outputId": "2c13dd3d-1af1-4e90-d1bd-8afec8641185",
        "colab": {
          "base_uri": "https://localhost:8080/",
          "height": 257
        }
      },
      "source": [
        "import csv\n",
        " \n",
        "f = open('age.csv',encoding='cp949')\n",
        "data = csv.reader(f)\n",
        "result = []\n",
        "name = input('인구 구조가 알고 싶은 지역의 이름(읍면동 단위)을 입력해주세요 : ')  # ➊\n",
        " \n",
        "for row in data :\n",
        "    if name in row[0] :                   # ➋\n",
        "        for i in row[3:] :\n",
        "            result.append(int(i))\n",
        "\n",
        "import matplotlib.pyplot as plt\n",
        "plt.style.use('ggplot')                   # ➌\n",
        "plt.rc('font', family=font_name)          # ➍\n",
        "plt.title(name +' 지역의 인구 구조')      # ➎\n",
        "plt.plot(result)\n",
        "plt.show()"
      ],
      "execution_count": null,
      "outputs": [
        {
          "output_type": "stream",
          "text": [
            "인구 구조가 알고 싶은 지역의 이름(읍면동 단위)을 입력해주세요 : 관양동\n"
          ],
          "name": "stdout"
        },
        {
          "output_type": "error",
          "ename": "NameError",
          "evalue": "ignored",
          "traceback": [
            "\u001b[0;31m---------------------------------------------------------------------------\u001b[0m",
            "\u001b[0;31mNameError\u001b[0m                                 Traceback (most recent call last)",
            "\u001b[0;32m<ipython-input-4-c7e743d7a571>\u001b[0m in \u001b[0;36m<module>\u001b[0;34m()\u001b[0m\n\u001b[1;32m     13\u001b[0m \u001b[0;32mimport\u001b[0m \u001b[0mmatplotlib\u001b[0m\u001b[0;34m.\u001b[0m\u001b[0mpyplot\u001b[0m \u001b[0;32mas\u001b[0m \u001b[0mplt\u001b[0m\u001b[0;34m\u001b[0m\u001b[0;34m\u001b[0m\u001b[0m\n\u001b[1;32m     14\u001b[0m \u001b[0mplt\u001b[0m\u001b[0;34m.\u001b[0m\u001b[0mstyle\u001b[0m\u001b[0;34m.\u001b[0m\u001b[0muse\u001b[0m\u001b[0;34m(\u001b[0m\u001b[0;34m'ggplot'\u001b[0m\u001b[0;34m)\u001b[0m                   \u001b[0;31m# ➌\u001b[0m\u001b[0;34m\u001b[0m\u001b[0;34m\u001b[0m\u001b[0m\n\u001b[0;32m---> 15\u001b[0;31m \u001b[0mplt\u001b[0m\u001b[0;34m.\u001b[0m\u001b[0mrc\u001b[0m\u001b[0;34m(\u001b[0m\u001b[0;34m'font'\u001b[0m\u001b[0;34m,\u001b[0m \u001b[0mfamily\u001b[0m\u001b[0;34m=\u001b[0m\u001b[0mfont_name\u001b[0m\u001b[0;34m)\u001b[0m          \u001b[0;31m# ➍\u001b[0m\u001b[0;34m\u001b[0m\u001b[0;34m\u001b[0m\u001b[0m\n\u001b[0m\u001b[1;32m     16\u001b[0m \u001b[0mplt\u001b[0m\u001b[0;34m.\u001b[0m\u001b[0mtitle\u001b[0m\u001b[0;34m(\u001b[0m\u001b[0mname\u001b[0m \u001b[0;34m+\u001b[0m\u001b[0;34m' 지역의 인구 구조'\u001b[0m\u001b[0;34m)\u001b[0m      \u001b[0;31m# ➎\u001b[0m\u001b[0;34m\u001b[0m\u001b[0;34m\u001b[0m\u001b[0m\n\u001b[1;32m     17\u001b[0m \u001b[0mplt\u001b[0m\u001b[0;34m.\u001b[0m\u001b[0mplot\u001b[0m\u001b[0;34m(\u001b[0m\u001b[0mresult\u001b[0m\u001b[0;34m)\u001b[0m\u001b[0;34m\u001b[0m\u001b[0;34m\u001b[0m\u001b[0m\n",
            "\u001b[0;31mNameError\u001b[0m: name 'font_name' is not defined"
          ]
        }
      ]
    },
    {
      "cell_type": "markdown",
      "metadata": {
        "id": "JtvlvmDN6Xzg"
      },
      "source": [
        "■ bar( ) 함수\n",
        "\n",
        "bar() 함수는 막대그래프를 표현하는 명령어입니다. 막대그래프에서 막대의 길이는 각 데이터의 크기를 의미합니다.\n",
        "\n",
        "다음은 간단한 막대그래프의 예시 코드입니다."
      ]
    },
    {
      "cell_type": "code",
      "metadata": {
        "id": "SepwnD_X55yA",
        "outputId": "8f1f9599-94c0-43a4-afc5-e6af970e3021",
        "colab": {
          "base_uri": "https://localhost:8080/",
          "height": 265
        }
      },
      "source": [
        "import matplotlib.pyplot as plt\n",
        "plt.bar([0, 1, 2, 4, 6, 10], [1, 2, 3, 5, 6, 7])\n",
        "plt.show()"
      ],
      "execution_count": null,
      "outputs": [
        {
          "output_type": "display_data",
          "data": {
            "image/png": "[encoded data removed]",
            "text/plain": [
              "<Figure size 432x288 with 1 Axes>"
            ]
          },
          "metadata": {
            "tags": []
          }
        }
      ]
    },
    {
      "cell_type": "markdown",
      "metadata": {
        "id": "bu1ifzR86aNI"
      },
      "source": [
        "TIP\n",
        "\n",
        "그래프의 색을 포함하여 세부적인 속성은 실행 환경에 따라 다를 수도 있습니다."
      ]
    },
    {
      "cell_type": "markdown",
      "metadata": {
        "id": "WuuikSO86ds4"
      },
      "source": [
        "bar() 함수에는 두 가지 값이 입력됩니다. 첫 번째는 막대를 표시할 위치이고, 두 번째는 막대의 높이입니다. 그리고 이 두 종류의 값들은 개수가 일치해야 합니다.\n",
        "예를 들어, 이 코드처럼 bar([0, 1, 2, 4, 6, 10], [1, 2, 3, 5, 6, 7])를 실행할 경우, 0에 해당하는 위치의 막대 높이는 1이고, 10에 해당하는 위치의 막대 높이는 7인 그래프가 그려집니다.\n",
        "막대그래프의 위치를 오름차순으로 표현하는 경우가 많으므로, 다음과 같이 range() 함수를 사용하여 막대그래프의 위치를 표현할 수도 있습니다."
      ]
    },
    {
      "cell_type": "code",
      "metadata": {
        "id": "Vex8qloD6bfQ",
        "outputId": "5be12f88-c488-40ff-e518-61702ca65022",
        "colab": {
          "base_uri": "https://localhost:8080/",
          "height": 265
        }
      },
      "source": [
        "import matplotlib.pyplot as plt\n",
        "plt.bar(range(6), [1, 2, 3, 5, 6, 7])\n",
        "plt.show()"
      ],
      "execution_count": null,
      "outputs": [
        {
          "output_type": "display_data",
          "data": {
            "image/png": "[encoded data removed]",
            "text/plain": [
              "<Figure size 432x288 with 1 Axes>"
            ]
          },
          "metadata": {
            "tags": []
          }
        }
      ]
    },
    {
      "cell_type": "markdown",
      "metadata": {
        "id": "sibwf6qn6mRI"
      },
      "source": [
        "이제 우리 동네의 인구 구조를 막대 그래프로 표현해 봅시다. 다음 코드를 참고하여, 자신이 사는 동네의 이름을 넣어 코드를 작성하면 쉽게 결과를 확인할 수 있습니다. 여기에서는 ‘신도림’을 넣었습니다. 또한, 0~100세 이상까지 101개 구간이 있기 때문에 막대의 위치를 range(101)라고 설정하였습니다."
      ]
    },
    {
      "cell_type": "markdown",
      "metadata": {
        "id": "OjtNVE_36oHg"
      },
      "source": [
        "TIP\n",
        "\n",
        "‘신도림’이 아닌 다른 동네의 결과를 보려면, ‘신도림’이라고 작성된 부분의 코드 한 줄만 수정하면 됩니다. 데이터를 처리하는 부분의 코드는 동일합니다."
      ]
    },
    {
      "cell_type": "code",
      "metadata": {
        "id": "RJbuqV5k6jtZ",
        "outputId": "0372b6fa-032c-464e-c49c-7d1a566b43de",
        "colab": {
          "base_uri": "https://localhost:8080/",
          "height": 265
        }
      },
      "source": [
        "import csv\n",
        "f = open('age.csv',encoding='cp949')\n",
        "data = csv.reader(f)\n",
        "\n",
        "result = []\n",
        "for row in data :\n",
        "    if '신도림' in row[0] :\n",
        "        for i in row[3:] :\n",
        "            result.append(int(i))\n",
        "\n",
        "import matplotlib.pyplot as plt\n",
        "plt.bar(range(101), result)\n",
        "plt.show()"
      ],
      "execution_count": null,
      "outputs": [
        {
          "output_type": "display_data",
          "data": {
            "image/png": "[encoded data removed]",
            "text/plain": [
              "<Figure size 432x288 with 1 Axes>"
            ]
          },
          "metadata": {
            "tags": []
          }
        }
      ]
    },
    {
      "cell_type": "markdown",
      "metadata": {
        "id": "ydWLhgAs6vj4"
      },
      "source": [
        "■ barh( ) 함수\n",
        "\n",
        "막대그래프를 수직이 아닌 수평 방향으로 그릴 수도 있습니다. bar() 함수를 barh() 함수로 바꾸면 수평 막대그래프로 표현됩니다."
      ]
    },
    {
      "cell_type": "code",
      "metadata": {
        "id": "UDjPodWO6sL-",
        "outputId": "6ad99788-8f0c-4914-ecf4-925d0fc877e8",
        "colab": {
          "base_uri": "https://localhost:8080/",
          "height": 282
        }
      },
      "source": [
        "plt.barh(range(101),result)"
      ],
      "execution_count": null,
      "outputs": [
        {
          "output_type": "execute_result",
          "data": {
            "text/plain": [
              "<BarContainer object of 101 artists>"
            ]
          },
          "metadata": {
            "tags": []
          },
          "execution_count": 15
        },
        {
          "output_type": "display_data",
          "data": {
            "image/png": "[encoded data removed]",
            "text/plain": [
              "<Figure size 432x288 with 1 Axes>"
            ]
          },
          "metadata": {
            "tags": []
          }
        }
      ]
    },
    {
      "cell_type": "markdown",
      "metadata": {
        "id": "XlFWT0rI60W4"
      },
      "source": [
        "barh(range(101), result)에서 range(101)은 y축의 막대 위치가 되고 result는 막대의 너비가 됩니다."
      ]
    },
    {
      "cell_type": "markdown",
      "metadata": {
        "id": "b28i5Pru62k4"
      },
      "source": [
        "2 항아리 모양 그래프 그리기\n",
        "\n",
        "현재 우리가 가진 데이터는 성별에 따라 구분되어 있지 않습니다. 하지만 항아리 모양으로 그래프를 그리려면 성별 정보가 포함된 인구 구조 데이터가 무척 유용할 것 같습니다."
      ]
    },
    {
      "cell_type": "markdown",
      "metadata": {
        "id": "peh1DWEL647r"
      },
      "source": [
        "■ 데이터 수집하기\n",
        "\n",
        "Unit 7에서 데이터를 내려받았던 것 기억하나요? 같은 방법으로 이번에는 남녀 성별이 포함된 데이터를 내려받겠습니다."
      ]
    },
    {
      "cell_type": "markdown",
      "metadata": {
        "id": "O2VGNKWv678A"
      },
      "source": [
        "➊ 행정안전부 홈페이지(www.mois.go.kr)의 정책자료 → 통계 → 주민등록 인구통계 메뉴에 접속한 후 연령별 인구현황 메뉴에서 통계표 탭을 선택합니다. ‘구분’에서 계 선택을 해제하고 남·여 구분에 선택합니다. ‘연령 구분 단위’를 1세로 선택하고 ‘만 연령구분’은 0에서 100이상을 선택한 다음 검색 버튼을 클릭합니다."
      ]
    },
    {
      "cell_type": "markdown",
      "metadata": {
        "id": "7QApI3ct7DOI"
      },
      "source": [
        "남성 데이터에 이어서 여성 데이터가 나옴\n",
        "\n",
        " \n",
        "\n",
        "그러면 여기에서 남성 데이터와 여성 데이터를 각각 따로 저장할 수 있을까요? 몇 가지 아이디어를 생각해 보겠습니다. 첫 번째 아이디어는 다음과 같습니다.\n",
        "남성 데이터는 왼쪽에, 여성 데이터는 오른쪽에 있으므로, 앞에서 3번째(0부터 시작한다고 가정)에 있는 데이터는 남성 0세 인구수이고, 뒤에서 첫 번째 데이터(인덱스 -1)는 여성의 100세 이상 인구수입니다."
      ]
    },
    {
      "cell_type": "markdown",
      "metadata": {
        "id": "6QjMRTfk7G-I"
      },
      "source": [
        "남성 데이터는 맨 앞에서부터 리스트 m에 차례대로 저장하면 됩니다. 여성 데이터는 인덱스 값이 -1인 100세 이상 인구수부터, 즉 맨 뒤에서부터 -1, -2, -3… 순으로 리스트 f에 저장한 후, 저장된 여성 데이터를 다시 역순으로 뒤집으면 됩니다.\n",
        "\n",
        "이때 남성 데이터는 인덱스가 3에서 시작하고, 여성 데이터는 인덱스가 –1에서 시작된다는 점을 주의해야 합니다.\n",
        "\n",
        "이 패턴을 코드로 표현하면 다음과 같습니다."
      ]
    },
    {
      "cell_type": "code",
      "metadata": {
        "id": "5X3zj8lL6yr_"
      },
      "source": [
        "import csv\n",
        "f = open('gender.csv',encoding='cp949')\n",
        "data = csv.reader(f)\n",
        "m = []\n",
        "f = []\n",
        "for row in data :\n",
        "    if '신도림' in row[0] :\n",
        "        for i in range(0,101) :\n",
        "            m.append(int(row[i+3]))\n",
        "            f.append(int(row[-(i+1)]))\n",
        "f.reverse()"
      ],
      "execution_count": null,
      "outputs": []
    },
    {
      "cell_type": "markdown",
      "metadata": {
        "id": "JZs7MRy47Pjx"
      },
      "source": [
        "TIP\n",
        "\n",
        "reverse( ) 함수는 리스트의 값을 역순으로 재배열하는 함수입니다."
      ]
    },
    {
      "cell_type": "markdown",
      "metadata": {
        "id": "13soIGpv7T4Q"
      },
      "source": [
        "남성 데이터는 3번 인덱스 값부터 103번 인덱스 값까지 차례대로 리스트 m에 저장하고, 여성 데이터는 106번 인덱스 값부터 206번 인덱스 값까지 차례대로 리스트 f에 저장할 수 있습니다.\n",
        "\n",
        "이를 코드로 표현하면 다음과 같습니다. 남성(male) 데이터는 리스트 m에 저장하고(➊),여성(female) 데이터는 리스트 f에 저장합니다(➋)."
      ]
    },
    {
      "cell_type": "code",
      "metadata": {
        "id": "XNSfnfhT7NZ3"
      },
      "source": [
        "import csv\n",
        "f = open('gender.csv',encoding='cp949')\n",
        "data = csv.reader(f)\n",
        "m = []\n",
        "f = []\n",
        "for row in data :\n",
        "    if'신도림'in row[0] :\n",
        "        for i in row[3:104] :\n",
        "            m.append(int(i))    # ➊ 남성 데이터를 리스트 m에 저장\n",
        "        for i in row[106:] :\n",
        "            f.append(int(i))    # ➋ 여성 데이터를 리스트 f에 저장"
      ],
      "execution_count": null,
      "outputs": []
    },
    {
      "cell_type": "markdown",
      "metadata": {
        "id": "hzZQ8vGI7a5x"
      },
      "source": [
        "TIP\n",
        "\n",
        "남성 데이터와 여성 데이터를 저장하는 코드(➊ ~ ➋)는 다양한 형태로 표현할 수 있습니다. 예를 들어 10행은 for in row[106:207]로 표현할 수도 있습니다. 여성 인구 데이터 중 0세에 해당하는 106번 인덱스부터 100세 이상에 해당하는 206번 인덱스까지를 범위로 지정해 주는 것이지요. 이 책에서 설명하는 코드 외에 여러분이 생각하는 방법으로 코드를 작성해 보세요."
      ]
    },
    {
      "cell_type": "markdown",
      "metadata": {
        "id": "pEG1y4Np7cso"
      },
      "source": [
        "여러분은 위의 두 가지 방법 중 어떤 방법이 더 편한가요? 아니면 이 두 가지 방법보다 더 좋은 방법이 떠올랐나요? 이 책에서는 순서대로 데이터를 저장하는 두 번째 방법을 선택해서 항아리 모양 그래프를 그려보겠습니다."
      ]
    },
    {
      "cell_type": "markdown",
      "metadata": {
        "id": "nK4P6lmN7epg"
      },
      "source": [
        "■ 데이터 시각화하기\n",
        "\n",
        "앞의 코드에 다음 코드를 추가합니다. m과 f 데이터를 각각 수평 막대그래프로 표현하는 코드입니다."
      ]
    },
    {
      "cell_type": "code",
      "metadata": {
        "id": "Lka6bns27Yza",
        "outputId": "d65dc8d9-d617-42ee-d869-2cc0bd04c328",
        "colab": {
          "base_uri": "https://localhost:8080/",
          "height": 265
        }
      },
      "source": [
        "import matplotlib.pyplot as plt\n",
        "plt.barh(range(101), m)\n",
        "plt.barh(range(101), f)\n",
        "plt.show()"
      ],
      "execution_count": null,
      "outputs": [
        {
          "output_type": "display_data",
          "data": {
            "image/png": "[encoded data removed]",
            "text/plain": [
              "<Figure size 432x288 with 1 Axes>"
            ]
          },
          "metadata": {
            "tags": []
          }
        }
      ]
    },
    {
      "cell_type": "markdown",
      "metadata": {
        "id": "y8uz5_BD7nd5"
      },
      "source": [
        "이는 두 데이터가 모두 양수로 이루어져 있기 때문입니다. 남성 데이터를 왼쪽에, 여성 데이터를 오른쪽에 두려면 남성 데이터를 음수로 바꾸면 되겠지요.\n",
        "\n",
        "다음과 같이 코드를 조금 수정합니다."
      ]
    },
    {
      "cell_type": "code",
      "metadata": {
        "id": "rGAuX_-n7rZi",
        "outputId": "e6b40477-b1fd-4e24-bdf1-f17868120e79",
        "colab": {
          "base_uri": "https://localhost:8080/",
          "height": 1000
        }
      },
      "source": [
        "import csv\n",
        "f = open('gender.csv',encoding='cp949')\n",
        "data = csv.reader(f)\n",
        "m = []\n",
        "f = []\n",
        "for row in data :\n",
        "    if'신도림'in row[0] :\n",
        "        for i in row[3:104] :\n",
        "            m.append(-int(i))    # ➊ 남성 데이터를 리스트 m에 저장\n",
        "        for i in row[106:] :\n",
        "            f.append(int(i))    # ➋ 여성 데이터를 리스트 f에 저장\n",
        "\n",
        "import matplotlib.pyplot as plt\n",
        "plt.rc('font', family='Malgun Gothic')\n",
        "plt.title('신도림 지역의 남녀 성별 인구 분포')\n",
        "plt.barh(range(101), m, label='남성')\n",
        "plt.barh(range(101), f, label='여성')\n",
        "plt.legend()\n",
        "plt.show()"
      ],
      "execution_count": null,
      "outputs": [
        {
          "output_type": "stream",
          "text": [
            "/usr/local/lib/python3.6/dist-packages/matplotlib/backends/backend_agg.py:214: RuntimeWarning: Glyph 49888 missing from current font.\n",
            "  font.set_text(s, 0.0, flags=flags)\n",
            "/usr/local/lib/python3.6/dist-packages/matplotlib/backends/backend_agg.py:214: RuntimeWarning: Glyph 46020 missing from current font.\n",
            "  font.set_text(s, 0.0, flags=flags)\n",
            "/usr/local/lib/python3.6/dist-packages/matplotlib/backends/backend_agg.py:214: RuntimeWarning: Glyph 47548 missing from current font.\n",
            "  font.set_text(s, 0.0, flags=flags)\n",
            "/usr/local/lib/python3.6/dist-packages/matplotlib/backends/backend_agg.py:214: RuntimeWarning: Glyph 51648 missing from current font.\n",
            "  font.set_text(s, 0.0, flags=flags)\n",
            "/usr/local/lib/python3.6/dist-packages/matplotlib/backends/backend_agg.py:214: RuntimeWarning: Glyph 50669 missing from current font.\n",
            "  font.set_text(s, 0.0, flags=flags)\n",
            "/usr/local/lib/python3.6/dist-packages/matplotlib/backends/backend_agg.py:214: RuntimeWarning: Glyph 51032 missing from current font.\n",
            "  font.set_text(s, 0.0, flags=flags)\n",
            "/usr/local/lib/python3.6/dist-packages/matplotlib/backends/backend_agg.py:214: RuntimeWarning: Glyph 45224 missing from current font.\n",
            "  font.set_text(s, 0.0, flags=flags)\n",
            "/usr/local/lib/python3.6/dist-packages/matplotlib/backends/backend_agg.py:214: RuntimeWarning: Glyph 45376 missing from current font.\n",
            "  font.set_text(s, 0.0, flags=flags)\n",
            "/usr/local/lib/python3.6/dist-packages/matplotlib/backends/backend_agg.py:214: RuntimeWarning: Glyph 49457 missing from current font.\n",
            "  font.set_text(s, 0.0, flags=flags)\n",
            "/usr/local/lib/python3.6/dist-packages/matplotlib/backends/backend_agg.py:214: RuntimeWarning: Glyph 48324 missing from current font.\n",
            "  font.set_text(s, 0.0, flags=flags)\n",
            "/usr/local/lib/python3.6/dist-packages/matplotlib/backends/backend_agg.py:214: RuntimeWarning: Glyph 51064 missing from current font.\n",
            "  font.set_text(s, 0.0, flags=flags)\n",
            "/usr/local/lib/python3.6/dist-packages/matplotlib/backends/backend_agg.py:214: RuntimeWarning: Glyph 44396 missing from current font.\n",
            "  font.set_text(s, 0.0, flags=flags)\n",
            "/usr/local/lib/python3.6/dist-packages/matplotlib/backends/backend_agg.py:214: RuntimeWarning: Glyph 48516 missing from current font.\n",
            "  font.set_text(s, 0.0, flags=flags)\n",
            "/usr/local/lib/python3.6/dist-packages/matplotlib/backends/backend_agg.py:214: RuntimeWarning: Glyph 54252 missing from current font.\n",
            "  font.set_text(s, 0.0, flags=flags)\n",
            "/usr/local/lib/python3.6/dist-packages/matplotlib/backends/backend_agg.py:214: RuntimeWarning: Glyph 50668 missing from current font.\n",
            "  font.set_text(s, 0.0, flags=flags)\n",
            "/usr/local/lib/python3.6/dist-packages/matplotlib/backends/backend_agg.py:183: RuntimeWarning: Glyph 49888 missing from current font.\n",
            "  font.set_text(s, 0, flags=flags)\n",
            "/usr/local/lib/python3.6/dist-packages/matplotlib/backends/backend_agg.py:183: RuntimeWarning: Glyph 46020 missing from current font.\n",
            "  font.set_text(s, 0, flags=flags)\n",
            "/usr/local/lib/python3.6/dist-packages/matplotlib/backends/backend_agg.py:183: RuntimeWarning: Glyph 47548 missing from current font.\n",
            "  font.set_text(s, 0, flags=flags)\n",
            "/usr/local/lib/python3.6/dist-packages/matplotlib/backends/backend_agg.py:183: RuntimeWarning: Glyph 51648 missing from current font.\n",
            "  font.set_text(s, 0, flags=flags)\n",
            "/usr/local/lib/python3.6/dist-packages/matplotlib/backends/backend_agg.py:183: RuntimeWarning: Glyph 50669 missing from current font.\n",
            "  font.set_text(s, 0, flags=flags)\n",
            "/usr/local/lib/python3.6/dist-packages/matplotlib/backends/backend_agg.py:183: RuntimeWarning: Glyph 51032 missing from current font.\n",
            "  font.set_text(s, 0, flags=flags)\n",
            "/usr/local/lib/python3.6/dist-packages/matplotlib/backends/backend_agg.py:183: RuntimeWarning: Glyph 45224 missing from current font.\n",
            "  font.set_text(s, 0, flags=flags)\n",
            "/usr/local/lib/python3.6/dist-packages/matplotlib/backends/backend_agg.py:183: RuntimeWarning: Glyph 45376 missing from current font.\n",
            "  font.set_text(s, 0, flags=flags)\n",
            "/usr/local/lib/python3.6/dist-packages/matplotlib/backends/backend_agg.py:183: RuntimeWarning: Glyph 49457 missing from current font.\n",
            "  font.set_text(s, 0, flags=flags)\n",
            "/usr/local/lib/python3.6/dist-packages/matplotlib/backends/backend_agg.py:183: RuntimeWarning: Glyph 48324 missing from current font.\n",
            "  font.set_text(s, 0, flags=flags)\n",
            "/usr/local/lib/python3.6/dist-packages/matplotlib/backends/backend_agg.py:183: RuntimeWarning: Glyph 51064 missing from current font.\n",
            "  font.set_text(s, 0, flags=flags)\n",
            "/usr/local/lib/python3.6/dist-packages/matplotlib/backends/backend_agg.py:183: RuntimeWarning: Glyph 44396 missing from current font.\n",
            "  font.set_text(s, 0, flags=flags)\n",
            "/usr/local/lib/python3.6/dist-packages/matplotlib/backends/backend_agg.py:183: RuntimeWarning: Glyph 48516 missing from current font.\n",
            "  font.set_text(s, 0, flags=flags)\n",
            "/usr/local/lib/python3.6/dist-packages/matplotlib/backends/backend_agg.py:183: RuntimeWarning: Glyph 54252 missing from current font.\n",
            "  font.set_text(s, 0, flags=flags)\n",
            "/usr/local/lib/python3.6/dist-packages/matplotlib/backends/backend_agg.py:183: RuntimeWarning: Glyph 50668 missing from current font.\n",
            "  font.set_text(s, 0, flags=flags)\n"
          ],
          "name": "stderr"
        },
        {
          "output_type": "display_data",
          "data": {
            "image/png": "[encoded data removed]",
            "text/plain": [
              "<Figure size 432x288 with 1 Axes>"
            ]
          },
          "metadata": {
            "tags": []
          }
        }
      ]
    },
    {
      "cell_type": "markdown",
      "metadata": {
        "id": "NCTKkQZX8IQX"
      },
      "source": [
        "이제 항아리 모양 그래프의 형태를 갖추었습니다. 그런데 남성 인구 그래프를 자세히 보니 마이너스 기호(-)가 깨졌네요. 이는 Unit 5에서 보았던 한글 서체 문제로, 다음과 같이 한 줄을 추가하면 해결됩니다."
      ]
    },
    {
      "cell_type": "code",
      "metadata": {
        "id": "OBvFtC-l7saO",
        "outputId": "f5ed3314-7db8-4fc2-8d5f-19bcafa1b301",
        "colab": {
          "base_uri": "https://localhost:8080/",
          "height": 1000
        }
      },
      "source": [
        "import matplotlib.pyplot as plt\n",
        "plt.rc('font', family='Malgun Gothic')\n",
        "plt.rcParams['axes.unicode_minus'] = False\n",
        "plt.title('신도림 지역의 남녀 성별 인구 분포')\n",
        "plt.barh(range(101), m, label='남성')\n",
        "plt.barh(range(101), f, label='여성')\n",
        "plt.legend()\n",
        "plt.show()"
      ],
      "execution_count": null,
      "outputs": [
        {
          "output_type": "stream",
          "text": [
            "/usr/local/lib/python3.6/dist-packages/matplotlib/backends/backend_agg.py:214: RuntimeWarning: Glyph 49888 missing from current font.\n",
            "  font.set_text(s, 0.0, flags=flags)\n",
            "/usr/local/lib/python3.6/dist-packages/matplotlib/backends/backend_agg.py:214: RuntimeWarning: Glyph 46020 missing from current font.\n",
            "  font.set_text(s, 0.0, flags=flags)\n",
            "/usr/local/lib/python3.6/dist-packages/matplotlib/backends/backend_agg.py:214: RuntimeWarning: Glyph 47548 missing from current font.\n",
            "  font.set_text(s, 0.0, flags=flags)\n",
            "/usr/local/lib/python3.6/dist-packages/matplotlib/backends/backend_agg.py:214: RuntimeWarning: Glyph 51648 missing from current font.\n",
            "  font.set_text(s, 0.0, flags=flags)\n",
            "/usr/local/lib/python3.6/dist-packages/matplotlib/backends/backend_agg.py:214: RuntimeWarning: Glyph 50669 missing from current font.\n",
            "  font.set_text(s, 0.0, flags=flags)\n",
            "/usr/local/lib/python3.6/dist-packages/matplotlib/backends/backend_agg.py:214: RuntimeWarning: Glyph 51032 missing from current font.\n",
            "  font.set_text(s, 0.0, flags=flags)\n",
            "/usr/local/lib/python3.6/dist-packages/matplotlib/backends/backend_agg.py:214: RuntimeWarning: Glyph 45224 missing from current font.\n",
            "  font.set_text(s, 0.0, flags=flags)\n",
            "/usr/local/lib/python3.6/dist-packages/matplotlib/backends/backend_agg.py:214: RuntimeWarning: Glyph 45376 missing from current font.\n",
            "  font.set_text(s, 0.0, flags=flags)\n",
            "/usr/local/lib/python3.6/dist-packages/matplotlib/backends/backend_agg.py:214: RuntimeWarning: Glyph 49457 missing from current font.\n",
            "  font.set_text(s, 0.0, flags=flags)\n",
            "/usr/local/lib/python3.6/dist-packages/matplotlib/backends/backend_agg.py:214: RuntimeWarning: Glyph 48324 missing from current font.\n",
            "  font.set_text(s, 0.0, flags=flags)\n",
            "/usr/local/lib/python3.6/dist-packages/matplotlib/backends/backend_agg.py:214: RuntimeWarning: Glyph 51064 missing from current font.\n",
            "  font.set_text(s, 0.0, flags=flags)\n",
            "/usr/local/lib/python3.6/dist-packages/matplotlib/backends/backend_agg.py:214: RuntimeWarning: Glyph 44396 missing from current font.\n",
            "  font.set_text(s, 0.0, flags=flags)\n",
            "/usr/local/lib/python3.6/dist-packages/matplotlib/backends/backend_agg.py:214: RuntimeWarning: Glyph 48516 missing from current font.\n",
            "  font.set_text(s, 0.0, flags=flags)\n",
            "/usr/local/lib/python3.6/dist-packages/matplotlib/backends/backend_agg.py:214: RuntimeWarning: Glyph 54252 missing from current font.\n",
            "  font.set_text(s, 0.0, flags=flags)\n",
            "/usr/local/lib/python3.6/dist-packages/matplotlib/backends/backend_agg.py:214: RuntimeWarning: Glyph 50668 missing from current font.\n",
            "  font.set_text(s, 0.0, flags=flags)\n",
            "/usr/local/lib/python3.6/dist-packages/matplotlib/backends/backend_agg.py:183: RuntimeWarning: Glyph 49888 missing from current font.\n",
            "  font.set_text(s, 0, flags=flags)\n",
            "/usr/local/lib/python3.6/dist-packages/matplotlib/backends/backend_agg.py:183: RuntimeWarning: Glyph 46020 missing from current font.\n",
            "  font.set_text(s, 0, flags=flags)\n",
            "/usr/local/lib/python3.6/dist-packages/matplotlib/backends/backend_agg.py:183: RuntimeWarning: Glyph 47548 missing from current font.\n",
            "  font.set_text(s, 0, flags=flags)\n",
            "/usr/local/lib/python3.6/dist-packages/matplotlib/backends/backend_agg.py:183: RuntimeWarning: Glyph 51648 missing from current font.\n",
            "  font.set_text(s, 0, flags=flags)\n",
            "/usr/local/lib/python3.6/dist-packages/matplotlib/backends/backend_agg.py:183: RuntimeWarning: Glyph 50669 missing from current font.\n",
            "  font.set_text(s, 0, flags=flags)\n",
            "/usr/local/lib/python3.6/dist-packages/matplotlib/backends/backend_agg.py:183: RuntimeWarning: Glyph 51032 missing from current font.\n",
            "  font.set_text(s, 0, flags=flags)\n",
            "/usr/local/lib/python3.6/dist-packages/matplotlib/backends/backend_agg.py:183: RuntimeWarning: Glyph 45224 missing from current font.\n",
            "  font.set_text(s, 0, flags=flags)\n",
            "/usr/local/lib/python3.6/dist-packages/matplotlib/backends/backend_agg.py:183: RuntimeWarning: Glyph 45376 missing from current font.\n",
            "  font.set_text(s, 0, flags=flags)\n",
            "/usr/local/lib/python3.6/dist-packages/matplotlib/backends/backend_agg.py:183: RuntimeWarning: Glyph 49457 missing from current font.\n",
            "  font.set_text(s, 0, flags=flags)\n",
            "/usr/local/lib/python3.6/dist-packages/matplotlib/backends/backend_agg.py:183: RuntimeWarning: Glyph 48324 missing from current font.\n",
            "  font.set_text(s, 0, flags=flags)\n",
            "/usr/local/lib/python3.6/dist-packages/matplotlib/backends/backend_agg.py:183: RuntimeWarning: Glyph 51064 missing from current font.\n",
            "  font.set_text(s, 0, flags=flags)\n",
            "/usr/local/lib/python3.6/dist-packages/matplotlib/backends/backend_agg.py:183: RuntimeWarning: Glyph 44396 missing from current font.\n",
            "  font.set_text(s, 0, flags=flags)\n",
            "/usr/local/lib/python3.6/dist-packages/matplotlib/backends/backend_agg.py:183: RuntimeWarning: Glyph 48516 missing from current font.\n",
            "  font.set_text(s, 0, flags=flags)\n",
            "/usr/local/lib/python3.6/dist-packages/matplotlib/backends/backend_agg.py:183: RuntimeWarning: Glyph 54252 missing from current font.\n",
            "  font.set_text(s, 0, flags=flags)\n",
            "/usr/local/lib/python3.6/dist-packages/matplotlib/backends/backend_agg.py:183: RuntimeWarning: Glyph 50668 missing from current font.\n",
            "  font.set_text(s, 0, flags=flags)\n"
          ],
          "name": "stderr"
        },
        {
          "output_type": "display_data",
          "data": {
            "image/png": "[encoded data removed]",
            "text/plain": [
              "<Figure size 432x288 with 1 Axes>"
            ]
          },
          "metadata": {
            "tags": []
          }
        }
      ]
    },
    {
      "cell_type": "markdown",
      "metadata": {
        "id": "zEYjQBCZ8LdH"
      },
      "source": [
        "지금까지 신도림 지역의 남녀 성별 인구 분포를 항아리 모양으로 나타냈습니다. 마지막으로 원하는 지역의 이름을 입력하면 해당 지역의 항아리 모양 그래프를 그리도록 코드를 수정하겠습니다.\n",
        "\n",
        "if '신도림' in row[0] : 코드에서 '신도림'이라고 작성한 부분에 원하는 지역의 이름을 사용자에게 입력받을 수 있도록 수정하면 됩니다. 그리고 원하는 지역의 이름은 계속 바뀌므로 변수를 사용하면 됩니다."
      ]
    },
    {
      "cell_type": "markdown",
      "metadata": {
        "id": "KnV2jUdb8P24"
      },
      "source": [
        "우리 동네 인구 구조를 항아리 모양 그래프로 그리기"
      ]
    },
    {
      "cell_type": "code",
      "metadata": {
        "id": "arAbGAPF8KB-",
        "outputId": "2db3bde6-a0b3-4ae2-e7e5-795ccb89b1aa",
        "colab": {
          "base_uri": "https://localhost:8080/",
          "height": 1000
        }
      },
      "source": [
        "import csv\n",
        "f = open('gender.csv',encoding='cp949')\n",
        "data = csv.reader(f)\n",
        "\n",
        "m = []\n",
        "f = []\n",
        "name = input('찾고 싶은 지역의 이름을 알려주세요 : ')\n",
        "for row in data :\n",
        "    if name in row[0] :\n",
        "        for i in row[3:104] :\n",
        "            m.append(-int(i))\n",
        "        for i in row[106:] :\n",
        "            f.append(int(i))\n",
        "        break\n",
        "\n",
        "import matplotlib.pyplot as plt\n",
        "plt.style.use('ggplot')\n",
        "plt.figure(figsize=(10,5), dpi=300)\n",
        "plt.rc('font', family='Malgun Gothic')\n",
        "plt.rcParams['axes.unicode_minus'] = False\n",
        "plt.title(name+' 지역의 남녀 성별 인구 분포')\n",
        "plt.barh(range(101), m, label='남성')\n",
        "plt.barh(range(101), f, label='여성')\n",
        "plt.legend()\n",
        "plt.show()"
      ],
      "execution_count": null,
      "outputs": [
        {
          "output_type": "stream",
          "text": [
            "찾고 싶은 지역의 이름을 알려주세요 : 안양\n"
          ],
          "name": "stdout"
        },
        {
          "output_type": "stream",
          "text": [
            "/usr/local/lib/python3.6/dist-packages/matplotlib/backends/backend_agg.py:214: RuntimeWarning: Glyph 50504 missing from current font.\n",
            "  font.set_text(s, 0.0, flags=flags)\n",
            "/usr/local/lib/python3.6/dist-packages/matplotlib/backends/backend_agg.py:214: RuntimeWarning: Glyph 50577 missing from current font.\n",
            "  font.set_text(s, 0.0, flags=flags)\n",
            "/usr/local/lib/python3.6/dist-packages/matplotlib/backends/backend_agg.py:214: RuntimeWarning: Glyph 51648 missing from current font.\n",
            "  font.set_text(s, 0.0, flags=flags)\n",
            "/usr/local/lib/python3.6/dist-packages/matplotlib/backends/backend_agg.py:214: RuntimeWarning: Glyph 50669 missing from current font.\n",
            "  font.set_text(s, 0.0, flags=flags)\n",
            "/usr/local/lib/python3.6/dist-packages/matplotlib/backends/backend_agg.py:214: RuntimeWarning: Glyph 51032 missing from current font.\n",
            "  font.set_text(s, 0.0, flags=flags)\n",
            "/usr/local/lib/python3.6/dist-packages/matplotlib/backends/backend_agg.py:214: RuntimeWarning: Glyph 45224 missing from current font.\n",
            "  font.set_text(s, 0.0, flags=flags)\n",
            "/usr/local/lib/python3.6/dist-packages/matplotlib/backends/backend_agg.py:214: RuntimeWarning: Glyph 45376 missing from current font.\n",
            "  font.set_text(s, 0.0, flags=flags)\n",
            "/usr/local/lib/python3.6/dist-packages/matplotlib/backends/backend_agg.py:214: RuntimeWarning: Glyph 49457 missing from current font.\n",
            "  font.set_text(s, 0.0, flags=flags)\n",
            "/usr/local/lib/python3.6/dist-packages/matplotlib/backends/backend_agg.py:214: RuntimeWarning: Glyph 48324 missing from current font.\n",
            "  font.set_text(s, 0.0, flags=flags)\n",
            "/usr/local/lib/python3.6/dist-packages/matplotlib/backends/backend_agg.py:214: RuntimeWarning: Glyph 51064 missing from current font.\n",
            "  font.set_text(s, 0.0, flags=flags)\n",
            "/usr/local/lib/python3.6/dist-packages/matplotlib/backends/backend_agg.py:214: RuntimeWarning: Glyph 44396 missing from current font.\n",
            "  font.set_text(s, 0.0, flags=flags)\n",
            "/usr/local/lib/python3.6/dist-packages/matplotlib/backends/backend_agg.py:214: RuntimeWarning: Glyph 48516 missing from current font.\n",
            "  font.set_text(s, 0.0, flags=flags)\n",
            "/usr/local/lib/python3.6/dist-packages/matplotlib/backends/backend_agg.py:214: RuntimeWarning: Glyph 54252 missing from current font.\n",
            "  font.set_text(s, 0.0, flags=flags)\n",
            "/usr/local/lib/python3.6/dist-packages/matplotlib/backends/backend_agg.py:214: RuntimeWarning: Glyph 50668 missing from current font.\n",
            "  font.set_text(s, 0.0, flags=flags)\n",
            "/usr/local/lib/python3.6/dist-packages/matplotlib/backends/backend_agg.py:183: RuntimeWarning: Glyph 50504 missing from current font.\n",
            "  font.set_text(s, 0, flags=flags)\n",
            "/usr/local/lib/python3.6/dist-packages/matplotlib/backends/backend_agg.py:183: RuntimeWarning: Glyph 50577 missing from current font.\n",
            "  font.set_text(s, 0, flags=flags)\n",
            "/usr/local/lib/python3.6/dist-packages/matplotlib/backends/backend_agg.py:183: RuntimeWarning: Glyph 51648 missing from current font.\n",
            "  font.set_text(s, 0, flags=flags)\n",
            "/usr/local/lib/python3.6/dist-packages/matplotlib/backends/backend_agg.py:183: RuntimeWarning: Glyph 50669 missing from current font.\n",
            "  font.set_text(s, 0, flags=flags)\n",
            "/usr/local/lib/python3.6/dist-packages/matplotlib/backends/backend_agg.py:183: RuntimeWarning: Glyph 51032 missing from current font.\n",
            "  font.set_text(s, 0, flags=flags)\n",
            "/usr/local/lib/python3.6/dist-packages/matplotlib/backends/backend_agg.py:183: RuntimeWarning: Glyph 45224 missing from current font.\n",
            "  font.set_text(s, 0, flags=flags)\n",
            "/usr/local/lib/python3.6/dist-packages/matplotlib/backends/backend_agg.py:183: RuntimeWarning: Glyph 45376 missing from current font.\n",
            "  font.set_text(s, 0, flags=flags)\n",
            "/usr/local/lib/python3.6/dist-packages/matplotlib/backends/backend_agg.py:183: RuntimeWarning: Glyph 49457 missing from current font.\n",
            "  font.set_text(s, 0, flags=flags)\n",
            "/usr/local/lib/python3.6/dist-packages/matplotlib/backends/backend_agg.py:183: RuntimeWarning: Glyph 48324 missing from current font.\n",
            "  font.set_text(s, 0, flags=flags)\n",
            "/usr/local/lib/python3.6/dist-packages/matplotlib/backends/backend_agg.py:183: RuntimeWarning: Glyph 51064 missing from current font.\n",
            "  font.set_text(s, 0, flags=flags)\n",
            "/usr/local/lib/python3.6/dist-packages/matplotlib/backends/backend_agg.py:183: RuntimeWarning: Glyph 44396 missing from current font.\n",
            "  font.set_text(s, 0, flags=flags)\n",
            "/usr/local/lib/python3.6/dist-packages/matplotlib/backends/backend_agg.py:183: RuntimeWarning: Glyph 48516 missing from current font.\n",
            "  font.set_text(s, 0, flags=flags)\n",
            "/usr/local/lib/python3.6/dist-packages/matplotlib/backends/backend_agg.py:183: RuntimeWarning: Glyph 54252 missing from current font.\n",
            "  font.set_text(s, 0, flags=flags)\n",
            "/usr/local/lib/python3.6/dist-packages/matplotlib/backends/backend_agg.py:183: RuntimeWarning: Glyph 50668 missing from current font.\n",
            "  font.set_text(s, 0, flags=flags)\n"
          ],
          "name": "stderr"
        },
        {
          "output_type": "display_data",
          "data": {
            "image/png": "[encoded data removed]",
            "text/plain": [
              "<Figure size 3000x1500 with 1 Axes>"
            ]
          },
          "metadata": {
            "tags": []
          }
        }
      ]
    },
    {
      "cell_type": "markdown",
      "metadata": {
        "id": "G2DzuABg90mN"
      },
      "source": [
        "이번 시간에는 막대그래프와 수평 막대그래프로 인구 데이터를 표현했습니다. 다양한 형태의 그래프를 통해 인구 데이터에 숨어있던 새로운 의미를 찾았기를 바랍니다. 다음 시간에는 또 다른 형태로 인구 데이터를 표현하는 방법을 배워보겠습니다."
      ]
    },
    {
      "cell_type": "code",
      "metadata": {
        "id": "NwEdEIBw8Twy"
      },
      "source": [
        ""
      ],
      "execution_count": null,
      "outputs": []
    }
  ]
}